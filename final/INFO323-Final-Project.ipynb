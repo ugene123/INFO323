{
 "cells": [
  {
   "cell_type": "markdown",
   "metadata": {},
   "source": [
    "### College of Computing and Informatics, Drexel University\n",
    "### INFO 323: Cloud Computing and Big Data, Spring 2020\n",
    "### Due: Sunday, June 14, 2020\n",
    "---\n",
    "\n",
    "## Final Project Report\n",
    "\n",
    "## Project Title: Predicting Breast Cancer Using Apache Spark\n",
    "\n",
    "## Student(s): Rachel Fisher, Eugene Yakovlev\n",
    "\n",
    "#### Date: 6/13/2020\n",
    "---"
   ]
  },
  {
   "cell_type": "markdown",
   "metadata": {},
   "source": [
    "# Project Requirements\n",
    "\n",
    "This final project examines the level of knowledge the students have learned from the course. The project must be done on a cloud computing platform, for example, the Apache Spark platform."
   ]
  },
  {
   "cell_type": "markdown",
   "metadata": {},
   "source": [
    "#### Abstract\n",
    "---\n",
    "*(Briefly summarize the cloud-based project including the problem, data sets, models, evaluation, and final findings.)* "
   ]
  },
  {
   "cell_type": "code",
   "execution_count": null,
   "metadata": {},
   "outputs": [],
   "source": []
  },
  {
   "cell_type": "markdown",
   "metadata": {},
   "source": [
    "### 1. Introduction\n",
    "---\n",
    "*(Introduce the project, describe the objectives, and present the results. This section will provide an overview of the entire project including the description of the data sets and the cloud-based data analytics methods and techniques the team used for analyzing the data to address the problem. Highlight the key findings.)* "
   ]
  },
  {
   "cell_type": "code",
   "execution_count": 3,
   "metadata": {},
   "outputs": [],
   "source": [
    "# "
   ]
  },
  {
   "cell_type": "markdown",
   "metadata": {},
   "source": [
    "### 2. Problem Definition\n",
    "---\n",
    "*(Define the problem that will be solved in this cloud computing project.)*"
   ]
  },
  {
   "cell_type": "markdown",
   "metadata": {},
   "source": [
    "Worldwide, breast cancer is the most common type of cancer in women and the second highest in terms of mortality rates. Detecting and diagnosing cancer early can help decrease mortality rates. Diagnosis of breast cancer is performed when an abnormal lump is found, and a doctor will determine whether it is cancerous or not, and if it is, whether is has spread to other parts of the body.\n",
    "\n",
    "In this dataset, we're given information on the lump as well as whether that patient was diagnosed with breast cancer or not. We want to split this dataset into training and test datasets to see if we can use the information on the lumps to predict whether that patient was diagnosed with breast cancer or not.\n",
    "\n",
    "If our model is accurate, then it could be used by doctors who have a patient with a lump/tumor in their breast. The doctor could input the values used in our dataset, describing the size and appearance of the lump, and get a value indicating if the lump is cancerous or not."
   ]
  },
  {
   "cell_type": "markdown",
   "metadata": {},
   "source": [
    "### 3. Data\n",
    "---\n",
    "*(Describe the origin, format, and  charateristics of the data.)*"
   ]
  },
  {
   "cell_type": "markdown",
   "metadata": {},
   "source": [
    "We collected the breast cancer prediction dataset from Kaggle (https://www.kaggle.com/merishnasuwal/breast-cancer-prediction-dataset) which was provided by Merishna Singh Suwal. The dataset orginated from Dr. William H. Wolberg from the University of Wisconsin Hospitals, Madison."
   ]
  },
  {
   "cell_type": "code",
   "execution_count": 4,
   "metadata": {},
   "outputs": [],
   "source": [
    "data = spark.read.option(\"inferSchema\", \"true\").option(\"header\", \"true\").csv(\"Breast_cancer_data.csv\")\n",
    "data.createOrReplaceTempView(\"data_view\")"
   ]
  },
  {
   "cell_type": "markdown",
   "metadata": {},
   "source": [
    "The dataset is a CSV file and contains 6 columns; 5 columns will be used as predictors:\n",
    "\n",
    "mean_radius: mean distance from the center to points on the perimeter\n",
    "\n",
    "mean_texture: standard deviation of gray-scale values\n",
    "\n",
    "mean_perimeter: mean size of the core tumor\n",
    "\n",
    "mean_area: mean area of the core tumor\n",
    "\n",
    "mean_smoothness: mean of the local variation in radius lengths\n",
    "\n",
    "\n",
    "And 1 column will be used as our label:\n",
    "\n",
    "diagnosis: the diagnosis of the breast dissues (1 = cancerous, 0 = benign)"
   ]
  },
  {
   "cell_type": "code",
   "execution_count": 5,
   "metadata": {},
   "outputs": [
    {
     "data": {
      "text/plain": [
       "['mean_radius',\n",
       " 'mean_texture',\n",
       " 'mean_perimeter',\n",
       " 'mean_area',\n",
       " 'mean_smoothness',\n",
       " 'diagnosis']"
      ]
     },
     "execution_count": 5,
     "metadata": {},
     "output_type": "execute_result"
    }
   ],
   "source": [
    "data.columns"
   ]
  },
  {
   "cell_type": "markdown",
   "metadata": {},
   "source": [
    "The 5 predictors are doubles (having decimals) and the diagnosis is a binary integer (0 or 1)."
   ]
  },
  {
   "cell_type": "code",
   "execution_count": 6,
   "metadata": {},
   "outputs": [
    {
     "name": "stdout",
     "output_type": "stream",
     "text": [
      "root\n",
      " |-- mean_radius: double (nullable = true)\n",
      " |-- mean_texture: double (nullable = true)\n",
      " |-- mean_perimeter: double (nullable = true)\n",
      " |-- mean_area: double (nullable = true)\n",
      " |-- mean_smoothness: double (nullable = true)\n",
      " |-- diagnosis: integer (nullable = true)\n",
      "\n"
     ]
    }
   ],
   "source": [
    "data.printSchema()"
   ]
  },
  {
   "cell_type": "markdown",
   "metadata": {},
   "source": [
    "There are 569 rows of data before cleaning. Each row represents one case/patient. Based on the mean of the diagnosis column, we can see that more cases in the dataset had 1 values, meaning more cases are positive for breast cancer in this dataset."
   ]
  },
  {
   "cell_type": "code",
   "execution_count": 7,
   "metadata": {},
   "outputs": [
    {
     "data": {
      "text/html": [
       "<div>\n",
       "<style scoped>\n",
       "    .dataframe tbody tr th:only-of-type {\n",
       "        vertical-align: middle;\n",
       "    }\n",
       "\n",
       "    .dataframe tbody tr th {\n",
       "        vertical-align: top;\n",
       "    }\n",
       "\n",
       "    .dataframe thead th {\n",
       "        text-align: right;\n",
       "    }\n",
       "</style>\n",
       "<table border=\"1\" class=\"dataframe\">\n",
       "  <thead>\n",
       "    <tr style=\"text-align: right;\">\n",
       "      <th></th>\n",
       "      <th>summary</th>\n",
       "      <th>mean_radius</th>\n",
       "      <th>mean_texture</th>\n",
       "      <th>mean_perimeter</th>\n",
       "      <th>mean_area</th>\n",
       "      <th>mean_smoothness</th>\n",
       "      <th>diagnosis</th>\n",
       "    </tr>\n",
       "  </thead>\n",
       "  <tbody>\n",
       "    <tr>\n",
       "      <th>0</th>\n",
       "      <td>count</td>\n",
       "      <td>569</td>\n",
       "      <td>569</td>\n",
       "      <td>569</td>\n",
       "      <td>569</td>\n",
       "      <td>569</td>\n",
       "      <td>569</td>\n",
       "    </tr>\n",
       "    <tr>\n",
       "      <th>1</th>\n",
       "      <td>mean</td>\n",
       "      <td>14.127291739894563</td>\n",
       "      <td>19.28964850615117</td>\n",
       "      <td>91.96903339191566</td>\n",
       "      <td>654.8891036906857</td>\n",
       "      <td>0.096360281195079</td>\n",
       "      <td>0.6274165202108963</td>\n",
       "    </tr>\n",
       "    <tr>\n",
       "      <th>2</th>\n",
       "      <td>stddev</td>\n",
       "      <td>3.5240488262120793</td>\n",
       "      <td>4.301035768166948</td>\n",
       "      <td>24.2989810387549</td>\n",
       "      <td>351.9141291816529</td>\n",
       "      <td>0.014064128137673616</td>\n",
       "      <td>0.4839179564031685</td>\n",
       "    </tr>\n",
       "    <tr>\n",
       "      <th>3</th>\n",
       "      <td>min</td>\n",
       "      <td>6.981</td>\n",
       "      <td>9.71</td>\n",
       "      <td>43.79</td>\n",
       "      <td>143.5</td>\n",
       "      <td>0.05263</td>\n",
       "      <td>0</td>\n",
       "    </tr>\n",
       "    <tr>\n",
       "      <th>4</th>\n",
       "      <td>max</td>\n",
       "      <td>28.11</td>\n",
       "      <td>39.28</td>\n",
       "      <td>188.5</td>\n",
       "      <td>2501.0</td>\n",
       "      <td>0.1634</td>\n",
       "      <td>1</td>\n",
       "    </tr>\n",
       "  </tbody>\n",
       "</table>\n",
       "</div>"
      ],
      "text/plain": [
       "  summary         mean_radius       mean_texture     mean_perimeter  \\\n",
       "0   count                 569                569                569   \n",
       "1    mean  14.127291739894563  19.28964850615117  91.96903339191566   \n",
       "2  stddev  3.5240488262120793  4.301035768166948   24.2989810387549   \n",
       "3     min               6.981               9.71              43.79   \n",
       "4     max               28.11              39.28              188.5   \n",
       "\n",
       "           mean_area       mean_smoothness           diagnosis  \n",
       "0                569                   569                 569  \n",
       "1  654.8891036906857     0.096360281195079  0.6274165202108963  \n",
       "2  351.9141291816529  0.014064128137673616  0.4839179564031685  \n",
       "3              143.5               0.05263                   0  \n",
       "4             2501.0                0.1634                   1  "
      ]
     },
     "execution_count": 7,
     "metadata": {},
     "output_type": "execute_result"
    }
   ],
   "source": [
    "data.describe().toPandas()"
   ]
  },
  {
   "cell_type": "markdown",
   "metadata": {},
   "source": [
    "### 4. Exploratory Data Analysis\n",
    "---\n",
    "*(Cleanse, wrangle, transform, and analyze the data. Compute descriptive statistics and visualize the values of features and correlations between different features. Explain the process and the results.)*"
   ]
  },
  {
   "cell_type": "markdown",
   "metadata": {},
   "source": [
    "First we wanted to remove any rows that had any null values"
   ]
  },
  {
   "cell_type": "code",
   "execution_count": 8,
   "metadata": {},
   "outputs": [],
   "source": [
    "data = data.na.drop(\"any\")"
   ]
  },
  {
   "cell_type": "code",
   "execution_count": 9,
   "metadata": {},
   "outputs": [
    {
     "data": {
      "text/html": [
       "<div>\n",
       "<style scoped>\n",
       "    .dataframe tbody tr th:only-of-type {\n",
       "        vertical-align: middle;\n",
       "    }\n",
       "\n",
       "    .dataframe tbody tr th {\n",
       "        vertical-align: top;\n",
       "    }\n",
       "\n",
       "    .dataframe thead th {\n",
       "        text-align: right;\n",
       "    }\n",
       "</style>\n",
       "<table border=\"1\" class=\"dataframe\">\n",
       "  <thead>\n",
       "    <tr style=\"text-align: right;\">\n",
       "      <th></th>\n",
       "      <th>summary</th>\n",
       "      <th>mean_radius</th>\n",
       "      <th>mean_texture</th>\n",
       "      <th>mean_perimeter</th>\n",
       "      <th>mean_area</th>\n",
       "      <th>mean_smoothness</th>\n",
       "      <th>diagnosis</th>\n",
       "    </tr>\n",
       "  </thead>\n",
       "  <tbody>\n",
       "    <tr>\n",
       "      <th>0</th>\n",
       "      <td>count</td>\n",
       "      <td>569</td>\n",
       "      <td>569</td>\n",
       "      <td>569</td>\n",
       "      <td>569</td>\n",
       "      <td>569</td>\n",
       "      <td>569</td>\n",
       "    </tr>\n",
       "    <tr>\n",
       "      <th>1</th>\n",
       "      <td>mean</td>\n",
       "      <td>14.127291739894563</td>\n",
       "      <td>19.28964850615117</td>\n",
       "      <td>91.96903339191566</td>\n",
       "      <td>654.8891036906857</td>\n",
       "      <td>0.096360281195079</td>\n",
       "      <td>0.6274165202108963</td>\n",
       "    </tr>\n",
       "    <tr>\n",
       "      <th>2</th>\n",
       "      <td>stddev</td>\n",
       "      <td>3.5240488262120793</td>\n",
       "      <td>4.301035768166948</td>\n",
       "      <td>24.2989810387549</td>\n",
       "      <td>351.9141291816529</td>\n",
       "      <td>0.014064128137673616</td>\n",
       "      <td>0.4839179564031685</td>\n",
       "    </tr>\n",
       "    <tr>\n",
       "      <th>3</th>\n",
       "      <td>min</td>\n",
       "      <td>6.981</td>\n",
       "      <td>9.71</td>\n",
       "      <td>43.79</td>\n",
       "      <td>143.5</td>\n",
       "      <td>0.05263</td>\n",
       "      <td>0</td>\n",
       "    </tr>\n",
       "    <tr>\n",
       "      <th>4</th>\n",
       "      <td>max</td>\n",
       "      <td>28.11</td>\n",
       "      <td>39.28</td>\n",
       "      <td>188.5</td>\n",
       "      <td>2501.0</td>\n",
       "      <td>0.1634</td>\n",
       "      <td>1</td>\n",
       "    </tr>\n",
       "  </tbody>\n",
       "</table>\n",
       "</div>"
      ],
      "text/plain": [
       "  summary         mean_radius       mean_texture     mean_perimeter  \\\n",
       "0   count                 569                569                569   \n",
       "1    mean  14.127291739894563  19.28964850615117  91.96903339191566   \n",
       "2  stddev  3.5240488262120793  4.301035768166948   24.2989810387549   \n",
       "3     min               6.981               9.71              43.79   \n",
       "4     max               28.11              39.28              188.5   \n",
       "\n",
       "           mean_area       mean_smoothness           diagnosis  \n",
       "0                569                   569                 569  \n",
       "1  654.8891036906857     0.096360281195079  0.6274165202108963  \n",
       "2  351.9141291816529  0.014064128137673616  0.4839179564031685  \n",
       "3              143.5               0.05263                   0  \n",
       "4             2501.0                0.1634                   1  "
      ]
     },
     "execution_count": 9,
     "metadata": {},
     "output_type": "execute_result"
    }
   ],
   "source": [
    "data.describe().toPandas()"
   ]
  },
  {
   "cell_type": "markdown",
   "metadata": {},
   "source": [
    "The counts for before and after removing the nulls are the same (569), so we know that there were no null values in the dataset.\n",
    "\n",
    "We also wanted to check that the diagnosis column only contained the values 0 and 1, as it is a binary indicator of whether the lump was cancerous or not."
   ]
  },
  {
   "cell_type": "code",
   "execution_count": 10,
   "metadata": {},
   "outputs": [
    {
     "name": "stdout",
     "output_type": "stream",
     "text": [
      "+---------+\n",
      "|DIAGNOSIS|\n",
      "+---------+\n",
      "|        1|\n",
      "|        0|\n",
      "+---------+\n",
      "\n"
     ]
    }
   ],
   "source": [
    "spark.sql(\"\"\"\n",
    "SELECT DISTINCT DIAGNOSIS\n",
    "FROM data_view\n",
    "\"\"\").show()"
   ]
  },
  {
   "cell_type": "markdown",
   "metadata": {},
   "source": [
    "By checking the distinct values above, we can see that the diagnosis column does only have values of 0 or 1, so this does not need to be cleaned.\n",
    "\n",
    "Using the describe() function we are able to look at the mean, standard deviation, maximum, and minium values for each column."
   ]
  },
  {
   "cell_type": "code",
   "execution_count": 11,
   "metadata": {},
   "outputs": [
    {
     "data": {
      "text/html": [
       "<div>\n",
       "<style scoped>\n",
       "    .dataframe tbody tr th:only-of-type {\n",
       "        vertical-align: middle;\n",
       "    }\n",
       "\n",
       "    .dataframe tbody tr th {\n",
       "        vertical-align: top;\n",
       "    }\n",
       "\n",
       "    .dataframe thead th {\n",
       "        text-align: right;\n",
       "    }\n",
       "</style>\n",
       "<table border=\"1\" class=\"dataframe\">\n",
       "  <thead>\n",
       "    <tr style=\"text-align: right;\">\n",
       "      <th></th>\n",
       "      <th>summary</th>\n",
       "      <th>mean_radius</th>\n",
       "      <th>mean_texture</th>\n",
       "      <th>mean_perimeter</th>\n",
       "      <th>mean_area</th>\n",
       "      <th>mean_smoothness</th>\n",
       "      <th>diagnosis</th>\n",
       "    </tr>\n",
       "  </thead>\n",
       "  <tbody>\n",
       "    <tr>\n",
       "      <th>0</th>\n",
       "      <td>count</td>\n",
       "      <td>569</td>\n",
       "      <td>569</td>\n",
       "      <td>569</td>\n",
       "      <td>569</td>\n",
       "      <td>569</td>\n",
       "      <td>569</td>\n",
       "    </tr>\n",
       "    <tr>\n",
       "      <th>1</th>\n",
       "      <td>mean</td>\n",
       "      <td>14.127291739894563</td>\n",
       "      <td>19.28964850615117</td>\n",
       "      <td>91.96903339191566</td>\n",
       "      <td>654.8891036906857</td>\n",
       "      <td>0.096360281195079</td>\n",
       "      <td>0.6274165202108963</td>\n",
       "    </tr>\n",
       "    <tr>\n",
       "      <th>2</th>\n",
       "      <td>stddev</td>\n",
       "      <td>3.5240488262120793</td>\n",
       "      <td>4.301035768166948</td>\n",
       "      <td>24.2989810387549</td>\n",
       "      <td>351.9141291816529</td>\n",
       "      <td>0.014064128137673616</td>\n",
       "      <td>0.4839179564031685</td>\n",
       "    </tr>\n",
       "    <tr>\n",
       "      <th>3</th>\n",
       "      <td>min</td>\n",
       "      <td>6.981</td>\n",
       "      <td>9.71</td>\n",
       "      <td>43.79</td>\n",
       "      <td>143.5</td>\n",
       "      <td>0.05263</td>\n",
       "      <td>0</td>\n",
       "    </tr>\n",
       "    <tr>\n",
       "      <th>4</th>\n",
       "      <td>max</td>\n",
       "      <td>28.11</td>\n",
       "      <td>39.28</td>\n",
       "      <td>188.5</td>\n",
       "      <td>2501.0</td>\n",
       "      <td>0.1634</td>\n",
       "      <td>1</td>\n",
       "    </tr>\n",
       "  </tbody>\n",
       "</table>\n",
       "</div>"
      ],
      "text/plain": [
       "  summary         mean_radius       mean_texture     mean_perimeter  \\\n",
       "0   count                 569                569                569   \n",
       "1    mean  14.127291739894563  19.28964850615117  91.96903339191566   \n",
       "2  stddev  3.5240488262120793  4.301035768166948   24.2989810387549   \n",
       "3     min               6.981               9.71              43.79   \n",
       "4     max               28.11              39.28              188.5   \n",
       "\n",
       "           mean_area       mean_smoothness           diagnosis  \n",
       "0                569                   569                 569  \n",
       "1  654.8891036906857     0.096360281195079  0.6274165202108963  \n",
       "2  351.9141291816529  0.014064128137673616  0.4839179564031685  \n",
       "3              143.5               0.05263                   0  \n",
       "4             2501.0                0.1634                   1  "
      ]
     },
     "execution_count": 11,
     "metadata": {},
     "output_type": "execute_result"
    }
   ],
   "source": [
    "data.describe().toPandas()"
   ]
  },
  {
   "cell_type": "code",
   "execution_count": 12,
   "metadata": {},
   "outputs": [],
   "source": [
    "import pandas as pd\n",
    "import seaborn as sns\n",
    "import matplotlib.pyplot as plt\n",
    "%matplotlib inline"
   ]
  },
  {
   "cell_type": "markdown",
   "metadata": {},
   "source": [
    "Below is the correlation between the pairs of features in the dataset. We converted the dataset into a pandas dataframe in order to compute the correlation.\n",
    "\n",
    "In the correlation visualization, we can see there is a strong positive correlation between the mean_radius, mean_perimeter, and the mean_area. This makes sense, as all 3 of these featuers signify the size of the lump, so as one increases, the other 2 will as well.\n",
    "\n",
    "As for the diagnosis, all other features have a negative correlation with the diagnosis. So as the values of the other features increase, the diagnosis value decreases; meaning the diagnosis will get closer to 0, indicating the lump is non-cancerous. The features that have the strongest correlation with the diagnosis is the mean_radius (-0.73), mean_perimeter (-0.74), and the mean_area (-0.71). This actually means that the larger the size of the tumor, the less likely it is to be cancerous, which is surprising, as we thought the opposite would be true."
   ]
  },
  {
   "cell_type": "code",
   "execution_count": 13,
   "metadata": {},
   "outputs": [],
   "source": [
    "data_pd = data.toPandas()"
   ]
  },
  {
   "cell_type": "code",
   "execution_count": 14,
   "metadata": {},
   "outputs": [
    {
     "data": {
      "text/html": [
       "<style  type=\"text/css\" >\n",
       "    #T_a08a14be_ad9f_11ea_90cc_d968892a3348row0_col0 {\n",
       "            background-color:  #b40426;\n",
       "            color:  #f1f1f1;\n",
       "        }    #T_a08a14be_ad9f_11ea_90cc_d968892a3348row0_col1 {\n",
       "            background-color:  #e2dad5;\n",
       "            color:  #000000;\n",
       "        }    #T_a08a14be_ad9f_11ea_90cc_d968892a3348row0_col2 {\n",
       "            background-color:  #b40426;\n",
       "            color:  #f1f1f1;\n",
       "        }    #T_a08a14be_ad9f_11ea_90cc_d968892a3348row0_col3 {\n",
       "            background-color:  #b50927;\n",
       "            color:  #f1f1f1;\n",
       "        }    #T_a08a14be_ad9f_11ea_90cc_d968892a3348row0_col4 {\n",
       "            background-color:  #bcd2f7;\n",
       "            color:  #000000;\n",
       "        }    #T_a08a14be_ad9f_11ea_90cc_d968892a3348row0_col5 {\n",
       "            background-color:  #3c4ec2;\n",
       "            color:  #f1f1f1;\n",
       "        }    #T_a08a14be_ad9f_11ea_90cc_d968892a3348row1_col0 {\n",
       "            background-color:  #f2c9b4;\n",
       "            color:  #000000;\n",
       "        }    #T_a08a14be_ad9f_11ea_90cc_d968892a3348row1_col1 {\n",
       "            background-color:  #b40426;\n",
       "            color:  #f1f1f1;\n",
       "        }    #T_a08a14be_ad9f_11ea_90cc_d968892a3348row1_col2 {\n",
       "            background-color:  #f3c7b1;\n",
       "            color:  #000000;\n",
       "        }    #T_a08a14be_ad9f_11ea_90cc_d968892a3348row1_col3 {\n",
       "            background-color:  #f2cab5;\n",
       "            color:  #000000;\n",
       "        }    #T_a08a14be_ad9f_11ea_90cc_d968892a3348row1_col4 {\n",
       "            background-color:  #8caffe;\n",
       "            color:  #000000;\n",
       "        }    #T_a08a14be_ad9f_11ea_90cc_d968892a3348row1_col5 {\n",
       "            background-color:  #779af7;\n",
       "            color:  #000000;\n",
       "        }    #T_a08a14be_ad9f_11ea_90cc_d968892a3348row2_col0 {\n",
       "            background-color:  #b40426;\n",
       "            color:  #f1f1f1;\n",
       "        }    #T_a08a14be_ad9f_11ea_90cc_d968892a3348row2_col1 {\n",
       "            background-color:  #e3d9d3;\n",
       "            color:  #000000;\n",
       "        }    #T_a08a14be_ad9f_11ea_90cc_d968892a3348row2_col2 {\n",
       "            background-color:  #b40426;\n",
       "            color:  #f1f1f1;\n",
       "        }    #T_a08a14be_ad9f_11ea_90cc_d968892a3348row2_col3 {\n",
       "            background-color:  #b70d28;\n",
       "            color:  #f1f1f1;\n",
       "        }    #T_a08a14be_ad9f_11ea_90cc_d968892a3348row2_col4 {\n",
       "            background-color:  #c5d6f2;\n",
       "            color:  #000000;\n",
       "        }    #T_a08a14be_ad9f_11ea_90cc_d968892a3348row2_col5 {\n",
       "            background-color:  #3b4cc0;\n",
       "            color:  #f1f1f1;\n",
       "        }    #T_a08a14be_ad9f_11ea_90cc_d968892a3348row3_col0 {\n",
       "            background-color:  #b50927;\n",
       "            color:  #f1f1f1;\n",
       "        }    #T_a08a14be_ad9f_11ea_90cc_d968892a3348row3_col1 {\n",
       "            background-color:  #e2dad5;\n",
       "            color:  #000000;\n",
       "        }    #T_a08a14be_ad9f_11ea_90cc_d968892a3348row3_col2 {\n",
       "            background-color:  #b50927;\n",
       "            color:  #f1f1f1;\n",
       "        }    #T_a08a14be_ad9f_11ea_90cc_d968892a3348row3_col3 {\n",
       "            background-color:  #b40426;\n",
       "            color:  #f1f1f1;\n",
       "        }    #T_a08a14be_ad9f_11ea_90cc_d968892a3348row3_col4 {\n",
       "            background-color:  #bed2f6;\n",
       "            color:  #000000;\n",
       "        }    #T_a08a14be_ad9f_11ea_90cc_d968892a3348row3_col5 {\n",
       "            background-color:  #3f53c6;\n",
       "            color:  #f1f1f1;\n",
       "        }    #T_a08a14be_ad9f_11ea_90cc_d968892a3348row4_col0 {\n",
       "            background-color:  #e2dad5;\n",
       "            color:  #000000;\n",
       "        }    #T_a08a14be_ad9f_11ea_90cc_d968892a3348row4_col1 {\n",
       "            background-color:  #96b7ff;\n",
       "            color:  #000000;\n",
       "        }    #T_a08a14be_ad9f_11ea_90cc_d968892a3348row4_col2 {\n",
       "            background-color:  #e8d6cc;\n",
       "            color:  #000000;\n",
       "        }    #T_a08a14be_ad9f_11ea_90cc_d968892a3348row4_col3 {\n",
       "            background-color:  #e1dad6;\n",
       "            color:  #000000;\n",
       "        }    #T_a08a14be_ad9f_11ea_90cc_d968892a3348row4_col4 {\n",
       "            background-color:  #b40426;\n",
       "            color:  #f1f1f1;\n",
       "        }    #T_a08a14be_ad9f_11ea_90cc_d968892a3348row4_col5 {\n",
       "            background-color:  #82a6fb;\n",
       "            color:  #000000;\n",
       "        }    #T_a08a14be_ad9f_11ea_90cc_d968892a3348row5_col0 {\n",
       "            background-color:  #3b4cc0;\n",
       "            color:  #f1f1f1;\n",
       "        }    #T_a08a14be_ad9f_11ea_90cc_d968892a3348row5_col1 {\n",
       "            background-color:  #3b4cc0;\n",
       "            color:  #f1f1f1;\n",
       "        }    #T_a08a14be_ad9f_11ea_90cc_d968892a3348row5_col2 {\n",
       "            background-color:  #3b4cc0;\n",
       "            color:  #f1f1f1;\n",
       "        }    #T_a08a14be_ad9f_11ea_90cc_d968892a3348row5_col3 {\n",
       "            background-color:  #3b4cc0;\n",
       "            color:  #f1f1f1;\n",
       "        }    #T_a08a14be_ad9f_11ea_90cc_d968892a3348row5_col4 {\n",
       "            background-color:  #3b4cc0;\n",
       "            color:  #f1f1f1;\n",
       "        }    #T_a08a14be_ad9f_11ea_90cc_d968892a3348row5_col5 {\n",
       "            background-color:  #b40426;\n",
       "            color:  #f1f1f1;\n",
       "        }</style><table id=\"T_a08a14be_ad9f_11ea_90cc_d968892a3348\" ><thead>    <tr>        <th class=\"blank level0\" ></th>        <th class=\"col_heading level0 col0\" >mean_radius</th>        <th class=\"col_heading level0 col1\" >mean_texture</th>        <th class=\"col_heading level0 col2\" >mean_perimeter</th>        <th class=\"col_heading level0 col3\" >mean_area</th>        <th class=\"col_heading level0 col4\" >mean_smoothness</th>        <th class=\"col_heading level0 col5\" >diagnosis</th>    </tr></thead><tbody>\n",
       "                <tr>\n",
       "                        <th id=\"T_a08a14be_ad9f_11ea_90cc_d968892a3348level0_row0\" class=\"row_heading level0 row0\" >mean_radius</th>\n",
       "                        <td id=\"T_a08a14be_ad9f_11ea_90cc_d968892a3348row0_col0\" class=\"data row0 col0\" >1.00</td>\n",
       "                        <td id=\"T_a08a14be_ad9f_11ea_90cc_d968892a3348row0_col1\" class=\"data row0 col1\" >0.32</td>\n",
       "                        <td id=\"T_a08a14be_ad9f_11ea_90cc_d968892a3348row0_col2\" class=\"data row0 col2\" >1.00</td>\n",
       "                        <td id=\"T_a08a14be_ad9f_11ea_90cc_d968892a3348row0_col3\" class=\"data row0 col3\" >0.99</td>\n",
       "                        <td id=\"T_a08a14be_ad9f_11ea_90cc_d968892a3348row0_col4\" class=\"data row0 col4\" >0.17</td>\n",
       "                        <td id=\"T_a08a14be_ad9f_11ea_90cc_d968892a3348row0_col5\" class=\"data row0 col5\" >-0.73</td>\n",
       "            </tr>\n",
       "            <tr>\n",
       "                        <th id=\"T_a08a14be_ad9f_11ea_90cc_d968892a3348level0_row1\" class=\"row_heading level0 row1\" >mean_texture</th>\n",
       "                        <td id=\"T_a08a14be_ad9f_11ea_90cc_d968892a3348row1_col0\" class=\"data row1 col0\" >0.32</td>\n",
       "                        <td id=\"T_a08a14be_ad9f_11ea_90cc_d968892a3348row1_col1\" class=\"data row1 col1\" >1.00</td>\n",
       "                        <td id=\"T_a08a14be_ad9f_11ea_90cc_d968892a3348row1_col2\" class=\"data row1 col2\" >0.33</td>\n",
       "                        <td id=\"T_a08a14be_ad9f_11ea_90cc_d968892a3348row1_col3\" class=\"data row1 col3\" >0.32</td>\n",
       "                        <td id=\"T_a08a14be_ad9f_11ea_90cc_d968892a3348row1_col4\" class=\"data row1 col4\" >-0.02</td>\n",
       "                        <td id=\"T_a08a14be_ad9f_11ea_90cc_d968892a3348row1_col5\" class=\"data row1 col5\" >-0.42</td>\n",
       "            </tr>\n",
       "            <tr>\n",
       "                        <th id=\"T_a08a14be_ad9f_11ea_90cc_d968892a3348level0_row2\" class=\"row_heading level0 row2\" >mean_perimeter</th>\n",
       "                        <td id=\"T_a08a14be_ad9f_11ea_90cc_d968892a3348row2_col0\" class=\"data row2 col0\" >1.00</td>\n",
       "                        <td id=\"T_a08a14be_ad9f_11ea_90cc_d968892a3348row2_col1\" class=\"data row2 col1\" >0.33</td>\n",
       "                        <td id=\"T_a08a14be_ad9f_11ea_90cc_d968892a3348row2_col2\" class=\"data row2 col2\" >1.00</td>\n",
       "                        <td id=\"T_a08a14be_ad9f_11ea_90cc_d968892a3348row2_col3\" class=\"data row2 col3\" >0.99</td>\n",
       "                        <td id=\"T_a08a14be_ad9f_11ea_90cc_d968892a3348row2_col4\" class=\"data row2 col4\" >0.21</td>\n",
       "                        <td id=\"T_a08a14be_ad9f_11ea_90cc_d968892a3348row2_col5\" class=\"data row2 col5\" >-0.74</td>\n",
       "            </tr>\n",
       "            <tr>\n",
       "                        <th id=\"T_a08a14be_ad9f_11ea_90cc_d968892a3348level0_row3\" class=\"row_heading level0 row3\" >mean_area</th>\n",
       "                        <td id=\"T_a08a14be_ad9f_11ea_90cc_d968892a3348row3_col0\" class=\"data row3 col0\" >0.99</td>\n",
       "                        <td id=\"T_a08a14be_ad9f_11ea_90cc_d968892a3348row3_col1\" class=\"data row3 col1\" >0.32</td>\n",
       "                        <td id=\"T_a08a14be_ad9f_11ea_90cc_d968892a3348row3_col2\" class=\"data row3 col2\" >0.99</td>\n",
       "                        <td id=\"T_a08a14be_ad9f_11ea_90cc_d968892a3348row3_col3\" class=\"data row3 col3\" >1.00</td>\n",
       "                        <td id=\"T_a08a14be_ad9f_11ea_90cc_d968892a3348row3_col4\" class=\"data row3 col4\" >0.18</td>\n",
       "                        <td id=\"T_a08a14be_ad9f_11ea_90cc_d968892a3348row3_col5\" class=\"data row3 col5\" >-0.71</td>\n",
       "            </tr>\n",
       "            <tr>\n",
       "                        <th id=\"T_a08a14be_ad9f_11ea_90cc_d968892a3348level0_row4\" class=\"row_heading level0 row4\" >mean_smoothness</th>\n",
       "                        <td id=\"T_a08a14be_ad9f_11ea_90cc_d968892a3348row4_col0\" class=\"data row4 col0\" >0.17</td>\n",
       "                        <td id=\"T_a08a14be_ad9f_11ea_90cc_d968892a3348row4_col1\" class=\"data row4 col1\" >-0.02</td>\n",
       "                        <td id=\"T_a08a14be_ad9f_11ea_90cc_d968892a3348row4_col2\" class=\"data row4 col2\" >0.21</td>\n",
       "                        <td id=\"T_a08a14be_ad9f_11ea_90cc_d968892a3348row4_col3\" class=\"data row4 col3\" >0.18</td>\n",
       "                        <td id=\"T_a08a14be_ad9f_11ea_90cc_d968892a3348row4_col4\" class=\"data row4 col4\" >1.00</td>\n",
       "                        <td id=\"T_a08a14be_ad9f_11ea_90cc_d968892a3348row4_col5\" class=\"data row4 col5\" >-0.36</td>\n",
       "            </tr>\n",
       "            <tr>\n",
       "                        <th id=\"T_a08a14be_ad9f_11ea_90cc_d968892a3348level0_row5\" class=\"row_heading level0 row5\" >diagnosis</th>\n",
       "                        <td id=\"T_a08a14be_ad9f_11ea_90cc_d968892a3348row5_col0\" class=\"data row5 col0\" >-0.73</td>\n",
       "                        <td id=\"T_a08a14be_ad9f_11ea_90cc_d968892a3348row5_col1\" class=\"data row5 col1\" >-0.42</td>\n",
       "                        <td id=\"T_a08a14be_ad9f_11ea_90cc_d968892a3348row5_col2\" class=\"data row5 col2\" >-0.74</td>\n",
       "                        <td id=\"T_a08a14be_ad9f_11ea_90cc_d968892a3348row5_col3\" class=\"data row5 col3\" >-0.71</td>\n",
       "                        <td id=\"T_a08a14be_ad9f_11ea_90cc_d968892a3348row5_col4\" class=\"data row5 col4\" >-0.36</td>\n",
       "                        <td id=\"T_a08a14be_ad9f_11ea_90cc_d968892a3348row5_col5\" class=\"data row5 col5\" >1.00</td>\n",
       "            </tr>\n",
       "    </tbody></table>"
      ],
      "text/plain": [
       "<pandas.io.formats.style.Styler at 0x7f0c4e8fffd0>"
      ]
     },
     "execution_count": 14,
     "metadata": {},
     "output_type": "execute_result"
    }
   ],
   "source": [
    "corr = data_pd.corr()\n",
    "corr.style.background_gradient(cmap='coolwarm').set_precision(2)"
   ]
  },
  {
   "cell_type": "markdown",
   "metadata": {},
   "source": [
    "Based on the above correlations, we wanted to plot the pairs of features that had the highest correlation.\n",
    "\n",
    "First is the mean_radius vs mean_perimeter vs mean_area, which we can see all have a strong positive correlation."
   ]
  },
  {
   "cell_type": "code",
   "execution_count": 15,
   "metadata": {},
   "outputs": [
    {
     "data": {
      "image/png": "[encoded data removed]",
      "text/plain": [
       "<Figure size 648x216 with 3 Axes>"
      ]
     },
     "metadata": {
      "needs_background": "light"
     },
     "output_type": "display_data"
    }
   ],
   "source": [
    "plt.figure(figsize=(9, 3))\n",
    "\n",
    "plt.subplot(131)\n",
    "plt.scatter(data_pd['mean_radius'], data_pd['mean_perimeter'])\n",
    "plt.xlabel('mean_radius')\n",
    "plt.ylabel('mean_perimeter')\n",
    "plt.subplot(132)\n",
    "plt.scatter(data_pd['mean_radius'], data_pd['mean_area'])\n",
    "plt.xlabel('mean_radius')\n",
    "plt.ylabel('mean_area')\n",
    "plt.subplot(133)\n",
    "plt.scatter(data_pd['mean_perimeter'], data_pd['mean_area'])\n",
    "plt.xlabel('mean_perimeter')\n",
    "plt.ylabel('mean_area')\n",
    "plt.tight_layout()"
   ]
  },
  {
   "cell_type": "markdown",
   "metadata": {},
   "source": [
    "Next we ploted all of the features vs the diagnosis. We can see that for the mean_radius, mean_perimeter, and the mean_area (which all had the strongest negative correlation with diagnosis), the graph shows that the lower values for that feature are associated with a diagnosis of 1 (meaning cancerous). For the mean_texture and mean_smoothness, we can see that the size of the distribution is greater, indicating a less strong correlation."
   ]
  },
  {
   "cell_type": "code",
   "execution_count": 16,
   "metadata": {},
   "outputs": [
    {
     "data": {
      "image/png": "[encoded data removed]",
      "text/plain": [
       "<Figure size 1080x288 with 5 Axes>"
      ]
     },
     "metadata": {
      "needs_background": "light"
     },
     "output_type": "display_data"
    }
   ],
   "source": [
    "plt.figure(figsize=(15, 4))\n",
    "\n",
    "plt.subplot(151)\n",
    "plt.scatter(data_pd['diagnosis'], data_pd['mean_radius'])\n",
    "plt.xlabel('diagnosis')\n",
    "plt.ylabel('mean_radius')\n",
    "plt.subplot(152)\n",
    "plt.scatter(data_pd['diagnosis'], data_pd['mean_texture'])\n",
    "plt.xlabel('diagnosis')\n",
    "plt.ylabel('mean_texture')\n",
    "plt.subplot(153)\n",
    "plt.scatter(data_pd['diagnosis'], data_pd['mean_perimeter'])\n",
    "plt.xlabel('diagnosis')\n",
    "plt.ylabel('mean_perimeter')\n",
    "plt.subplot(154)\n",
    "plt.scatter(data_pd['diagnosis'], data_pd['mean_area'])\n",
    "plt.xlabel('diagnosis')\n",
    "plt.ylabel('mean_area')\n",
    "plt.subplot(155)\n",
    "plt.scatter(data_pd['diagnosis'], data_pd['mean_smoothness'])\n",
    "plt.xlabel('diagnosis')\n",
    "plt.ylabel('mean_smoothness')\n",
    "plt.tight_layout()"
   ]
  },
  {
   "cell_type": "markdown",
   "metadata": {},
   "source": [
    "### 5. Modeling and Evaluation\n",
    "---\n",
    "*(Build analytic models and evaluate the models on the data. The analytics should be guided by the problem defined earlier. Explain the process and results.)*"
   ]
  },
  {
   "cell_type": "markdown",
   "metadata": {},
   "source": [
    "To prepare the dataset, we loaded in the .csv file and converted the 'diagnosis' column to a column of doubles, labeled 'label.' The 'label' column is going to be used in future steps as the classifier of each observation in the dataset."
   ]
  },
  {
   "cell_type": "code",
   "execution_count": 18,
   "metadata": {
    "scrolled": true
   },
   "outputs": [
    {
     "name": "stdout",
     "output_type": "stream",
     "text": [
      "+-----------+------------+--------------+---------+---------------+---------+-----+\n",
      "|mean_radius|mean_texture|mean_perimeter|mean_area|mean_smoothness|diagnosis|label|\n",
      "+-----------+------------+--------------+---------+---------------+---------+-----+\n",
      "|      17.99|       10.38|         122.8|   1001.0|         0.1184|        0|  0.0|\n",
      "|      20.57|       17.77|         132.9|   1326.0|        0.08474|        0|  0.0|\n",
      "|      19.69|       21.25|         130.0|   1203.0|         0.1096|        0|  0.0|\n",
      "|      11.42|       20.38|         77.58|    386.1|         0.1425|        0|  0.0|\n",
      "|      20.29|       14.34|         135.1|   1297.0|         0.1003|        0|  0.0|\n",
      "+-----------+------------+--------------+---------+---------------+---------+-----+\n",
      "only showing top 5 rows\n",
      "\n"
     ]
    }
   ],
   "source": [
    "df = spark.read.option(\"inferSchema\", \"true\").option(\"header\", \"true\").csv(\"Breast_cancer_data.csv\")\n",
    "df = df.withColumn(\"label\", df[\"diagnosis\"].cast(\"double\"))\n",
    "df.show(5)"
   ]
  },
  {
   "cell_type": "markdown",
   "metadata": {},
   "source": [
    "There are 5 columns that represent the features in an observation. There are all doubles. These are the features that are going to be used to predict and compared to the training dataset to make label predictions."
   ]
  },
  {
   "cell_type": "code",
   "execution_count": 19,
   "metadata": {},
   "outputs": [],
   "source": [
    "featureColumns = ['mean_radius', 'mean_texture', 'mean_perimeter', 'mean_area', 'mean_smoothness']"
   ]
  },
  {
   "cell_type": "code",
   "execution_count": 20,
   "metadata": {},
   "outputs": [
    {
     "name": "stdout",
     "output_type": "stream",
     "text": [
      "Number of rows: 569\n",
      "Number of columns: 7\n"
     ]
    }
   ],
   "source": [
    "# print num rows in df\n",
    "print(\"Number of rows:\", df.count())\n",
    "# print num columns in df\n",
    "print(\"Number of columns:\", len(df.columns))"
   ]
  },
  {
   "cell_type": "markdown",
   "metadata": {},
   "source": [
    "# VectorAssembler\n",
    "To create an aggregate column containing the observation features, we used pyspark's VectorAssembler to specify the feature columns and output the result in a column called 'features'"
   ]
  },
  {
   "cell_type": "code",
   "execution_count": 21,
   "metadata": {},
   "outputs": [],
   "source": [
    "from pyspark.ml.feature import VectorAssembler\n",
    "\n",
    "assembler = VectorAssembler(inputCols=featureColumns, outputCol=\"features\")"
   ]
  },
  {
   "cell_type": "code",
   "execution_count": 22,
   "metadata": {},
   "outputs": [],
   "source": [
    "df = assembler.transform(df)"
   ]
  },
  {
   "cell_type": "markdown",
   "metadata": {},
   "source": [
    "The 'features' has been added that contains an array of features in one column."
   ]
  },
  {
   "cell_type": "code",
   "execution_count": 23,
   "metadata": {},
   "outputs": [
    {
     "name": "stdout",
     "output_type": "stream",
     "text": [
      "+-----------+------------+--------------+---------+---------------+---------+-----+--------------------+\n",
      "|mean_radius|mean_texture|mean_perimeter|mean_area|mean_smoothness|diagnosis|label|            features|\n",
      "+-----------+------------+--------------+---------+---------------+---------+-----+--------------------+\n",
      "|      17.99|       10.38|         122.8|   1001.0|         0.1184|        0|  0.0|[17.99,10.38,122....|\n",
      "|      20.57|       17.77|         132.9|   1326.0|        0.08474|        0|  0.0|[20.57,17.77,132....|\n",
      "|      19.69|       21.25|         130.0|   1203.0|         0.1096|        0|  0.0|[19.69,21.25,130....|\n",
      "|      11.42|       20.38|         77.58|    386.1|         0.1425|        0|  0.0|[11.42,20.38,77.5...|\n",
      "|      20.29|       14.34|         135.1|   1297.0|         0.1003|        0|  0.0|[20.29,14.34,135....|\n",
      "+-----------+------------+--------------+---------+---------------+---------+-----+--------------------+\n",
      "only showing top 5 rows\n",
      "\n"
     ]
    }
   ],
   "source": [
    "df.show(5)"
   ]
  },
  {
   "cell_type": "markdown",
   "metadata": {},
   "source": [
    "Next we wanted to split the dataset into a training and test dataset. We split the dataset, 80% to train and 20% to test."
   ]
  },
  {
   "cell_type": "code",
   "execution_count": 24,
   "metadata": {},
   "outputs": [],
   "source": [
    "import random\n",
    "\n",
    "random.seed(12345)\n",
    "train, test = df.randomSplit([0.8, 0.2])"
   ]
  },
  {
   "cell_type": "code",
   "execution_count": 25,
   "metadata": {
    "scrolled": true
   },
   "outputs": [
    {
     "name": "stdout",
     "output_type": "stream",
     "text": [
      "There are 450 in the train dataset.\n",
      "There are 119 in the test dataset.\n"
     ]
    }
   ],
   "source": [
    "trainCount = train.count()\n",
    "testCount = test.count()\n",
    "\n",
    "print(\"There are\", trainCount, \"in the train dataset.\")\n",
    "print(\"There are\", testCount, \"in the test dataset.\")"
   ]
  },
  {
   "cell_type": "markdown",
   "metadata": {},
   "source": [
    "# DecisionTreeClassifier\n",
    "\n",
    "Decision trees and their ensembles are popular methods for the machine learning tasks of classification and regression. Decision trees are widely used since they are easy to interpret, handle categorical features, extend to the multiclass classification setting, do not require feature scaling, and are able to capture non-linearities and feature interactions. Tree ensemble algorithms such as random forests and boosting are among the top performers for classification and regression tasks."
   ]
  },
  {
   "cell_type": "markdown",
   "metadata": {},
   "source": [
    "With great promises from the model, we wanted to see how well the DecisionTreeClassifier would work with our dataset so it was our first model. The higher the accuracy, the better. We wouldn't want to miss/false identify a cancer patient."
   ]
  },
  {
   "cell_type": "code",
   "execution_count": 26,
   "metadata": {},
   "outputs": [],
   "source": [
    "from pyspark.ml.classification import DecisionTreeClassifier\n",
    "\n",
    "dtModel = DecisionTreeClassifier(labelCol=\"label\", featuresCol=\"features\", maxDepth=5, minInstancesPerNode=20, impurity=\"gini\")"
   ]
  },
  {
   "cell_type": "code",
   "execution_count": 27,
   "metadata": {},
   "outputs": [],
   "source": [
    "fittedDt = dtModel.fit(train)"
   ]
  },
  {
   "cell_type": "code",
   "execution_count": 28,
   "metadata": {},
   "outputs": [],
   "source": [
    "predictions = fittedDt.transform(test)"
   ]
  },
  {
   "cell_type": "markdown",
   "metadata": {},
   "source": [
    "After the DT model was fitted to the training dataset and then transformed to the test dataset, we had our predictions."
   ]
  },
  {
   "cell_type": "code",
   "execution_count": 29,
   "metadata": {},
   "outputs": [
    {
     "name": "stdout",
     "output_type": "stream",
     "text": [
      "+----------+-----+\n",
      "|prediction|label|\n",
      "+----------+-----+\n",
      "|       1.0|  1.0|\n",
      "|       1.0|  1.0|\n",
      "|       1.0|  1.0|\n",
      "|       1.0|  1.0|\n",
      "|       1.0|  1.0|\n",
      "|       1.0|  1.0|\n",
      "|       1.0|  1.0|\n",
      "|       1.0|  1.0|\n",
      "|       1.0|  1.0|\n",
      "|       1.0|  1.0|\n",
      "+----------+-----+\n",
      "only showing top 10 rows\n",
      "\n"
     ]
    }
   ],
   "source": [
    "predictions.select(\"prediction\",\"label\").show(10)"
   ]
  },
  {
   "cell_type": "markdown",
   "metadata": {},
   "source": [
    "# MulticlassClassificationEvaluator\n",
    "Used to evaluate accuracy of the model."
   ]
  },
  {
   "cell_type": "code",
   "execution_count": 30,
   "metadata": {},
   "outputs": [],
   "source": [
    "from pyspark.ml.evaluation import MulticlassClassificationEvaluator\n",
    "from pyspark.mllib.evaluation import MulticlassMetrics"
   ]
  },
  {
   "cell_type": "code",
   "execution_count": 31,
   "metadata": {},
   "outputs": [],
   "source": [
    "evaluator = MulticlassClassificationEvaluator(labelCol=\"label\", predictionCol=\"prediction\", metricName=\"weightedPrecision\")"
   ]
  },
  {
   "cell_type": "code",
   "execution_count": 32,
   "metadata": {},
   "outputs": [],
   "source": [
    "accuracy = evaluator.evaluate(predictions)"
   ]
  },
  {
   "cell_type": "code",
   "execution_count": 33,
   "metadata": {},
   "outputs": [
    {
     "data": {
      "text/plain": [
       "0.8988184364654954"
      ]
     },
     "execution_count": 33,
     "metadata": {},
     "output_type": "execute_result"
    }
   ],
   "source": [
    "accuracy "
   ]
  },
  {
   "cell_type": "markdown",
   "metadata": {},
   "source": [
    "Our model was successful in predicting the true diagnosis of a cancer lump observation 89.88% of the time! Now convert DataFrame to RDD for using xxxxMetrics"
   ]
  },
  {
   "cell_type": "markdown",
   "metadata": {},
   "source": [
    "## Use MulticlassMetrics to get confusion matrix"
   ]
  },
  {
   "cell_type": "code",
   "execution_count": 34,
   "metadata": {},
   "outputs": [],
   "source": [
    "outRdd = predictions\\\n",
    "  .select(\"prediction\", \"label\")\\\n",
    "  .rdd.map(lambda x: (float(x[0]), float(x[1])))"
   ]
  },
  {
   "cell_type": "code",
   "execution_count": 35,
   "metadata": {},
   "outputs": [],
   "source": [
    "metrics = MulticlassMetrics(outRdd)"
   ]
  },
  {
   "cell_type": "code",
   "execution_count": 36,
   "metadata": {},
   "outputs": [
    {
     "data": {
      "text/plain": [
       "array([[39.,  7.],\n",
       "       [ 5., 68.]])"
      ]
     },
     "execution_count": 36,
     "metadata": {},
     "output_type": "execute_result"
    }
   ],
   "source": [
    "metrics.confusionMatrix().toArray()"
   ]
  },
  {
   "cell_type": "markdown",
   "metadata": {},
   "source": [
    "- True Positive (TP) - label is positive and prediction is also positive - 39 observation\n",
    "- True Negative (TN) - label is negative and prediction is also negative - 68 observations\n",
    "- False Positive (FP) - label is negative but prediction is positive - 5 observations\n",
    "- False Negative (FN) - label is positive but prediction is negative - 7 observations\n",
    "\n",
    "Total - 119 observations in the train dataset"
   ]
  },
  {
   "cell_type": "markdown",
   "metadata": {},
   "source": [
    "Another way to interpret this is that there are 7 cases that have been diagnosed with cancer that were predicted to not have cancer by the model. This is the most extreme, and worst case (life threathening). This is called a false-negative, or a Type II error.\n",
    "\n",
    "On the other hand, there are 5 cases that do not have cancer, but have been predicted to have cancer. This isn't as terrible because the patients will undergo more testing and discover they don't have cancer later - but still a mistake. (Not life threathening) This is a called a false-positive, or Type I error.\n",
    "\n",
    "In statistics, it is our goal as the data scientist/statiscian to lower the Type II error as much as possible!"
   ]
  },
  {
   "cell_type": "markdown",
   "metadata": {},
   "source": [
    "# Another DeicisionTreeClassifier - RandomForestClassifier\n",
    "Random forests are ensembles of decision trees. Random forests combine many decision trees in order to reduce the risk of overfitting. We wanted to try the RandomForestClassifier to see if it would help improve the accuracy!"
   ]
  },
  {
   "cell_type": "code",
   "execution_count": 37,
   "metadata": {},
   "outputs": [],
   "source": [
    "from pyspark.ml import Pipeline\n",
    "from pyspark.ml.classification import RandomForestClassifier\n",
    "from pyspark.ml.feature import IndexToString, StringIndexer, VectorIndexer\n",
    "from pyspark.ml.evaluation import MulticlassClassificationEvaluator\n",
    "from pyspark.ml.feature import VectorAssembler\n",
    "\n",
    "# Index labels, adding metadata to the label column.\n",
    "# Fit on whole dataset to include all labels in index.\n",
    "labelIndexer = StringIndexer(inputCol=\"label\", outputCol=\"indexedLabel\").fit(df)\n",
    "\n",
    "# Automatically identify categorical features, and index them.\n",
    "# Set maxCategories so features with > 4 distinct values are treated as continuous.\n",
    "featureIndexer =\\\n",
    "    VectorIndexer(inputCol=\"features\", outputCol=\"indexedFeatures\", maxCategories=4).fit(df)\n"
   ]
  },
  {
   "cell_type": "code",
   "execution_count": 38,
   "metadata": {},
   "outputs": [],
   "source": [
    "# Split the data into training and test sets (20% held out for testing)\n",
    "random.seed(12345)\n",
    "train, test = df.randomSplit([0.8, 0.2])\n",
    "\n",
    "# Train a RandomForest model.\n",
    "rf = RandomForestClassifier(labelCol=\"indexedLabel\", featuresCol=\"indexedFeatures\", numTrees=10)\n",
    "\n",
    "# Convert indexed labels back to original labels.\n",
    "labelConverter = IndexToString(inputCol=\"prediction\", outputCol=\"predictedLabel\",\n",
    "                               labels=labelIndexer.labels)"
   ]
  },
  {
   "cell_type": "code",
   "execution_count": 39,
   "metadata": {},
   "outputs": [
    {
     "name": "stdout",
     "output_type": "stream",
     "text": [
      "+--------------+-----+--------------------+\n",
      "|predictedLabel|label|            features|\n",
      "+--------------+-----+--------------------+\n",
      "|           1.0|  1.0|[6.981,13.43,43.7...|\n",
      "|           1.0|  1.0|[8.219,20.7,53.27...|\n",
      "|           1.0|  1.0|[8.618,11.79,54.3...|\n",
      "|           1.0|  1.0|[8.734,16.84,55.2...|\n",
      "|           1.0|  1.0|[8.888,14.64,58.7...|\n",
      "+--------------+-----+--------------------+\n",
      "only showing top 5 rows\n",
      "\n"
     ]
    }
   ],
   "source": [
    "# Chain indexers and forest in a Pipeline\n",
    "pipeline = Pipeline(stages=[labelIndexer, featureIndexer, rf, labelConverter])\n",
    "\n",
    "# Train model.  This also runs the indexers.\n",
    "model = pipeline.fit(train)\n",
    "\n",
    "# Make predictions.\n",
    "predictions = model.transform(test)\n",
    "\n",
    "# Select example rows to display.\n",
    "predictions.select(\"predictedLabel\", \"label\", \"features\").show(5)"
   ]
  },
  {
   "cell_type": "code",
   "execution_count": 40,
   "metadata": {},
   "outputs": [
    {
     "data": {
      "text/plain": [
       "0.9159663865546218"
      ]
     },
     "execution_count": 40,
     "metadata": {},
     "output_type": "execute_result"
    }
   ],
   "source": [
    "# Select (prediction, true label) and compute test error\n",
    "evaluator = MulticlassClassificationEvaluator(\n",
    "    labelCol=\"indexedLabel\", predictionCol=\"prediction\", metricName=\"accuracy\")\n",
    "\n",
    "accuracy = evaluator.evaluate(predictions)\n",
    "accuracy"
   ]
  },
  {
   "cell_type": "code",
   "execution_count": 41,
   "metadata": {},
   "outputs": [
    {
     "data": {
      "text/plain": [
       "array([[40.,  6.],\n",
       "       [ 4., 69.]])"
      ]
     },
     "execution_count": 41,
     "metadata": {},
     "output_type": "execute_result"
    }
   ],
   "source": [
    "outRdd = predictions\\\n",
    "  .select(\"predictedLabel\", \"label\")\\\n",
    "  .rdd.map(lambda x: (float(x[0]), float(x[1])))\n",
    "\n",
    "metrics = MulticlassMetrics(outRdd)\n",
    "\n",
    "metrics.confusionMatrix().toArray()"
   ]
  },
  {
   "cell_type": "markdown",
   "metadata": {},
   "source": [
    "- True Positive (TP) - label is positive and prediction is also positive - 40 observation\n",
    "- True Negative (TN) - label is negative and prediction is also negative - 69 observations\n",
    "- False Positive (FP) - label is negative but prediction is positive - 6 observations\n",
    "- False Negative (FN) - label is positive but prediction is negative - 4 observations\n",
    "\n",
    "Total - 119 observations in the train dataset"
   ]
  },
  {
   "cell_type": "markdown",
   "metadata": {},
   "source": [
    "Another way to interpret this is that there are 4 cases that have been diagnosed with cancer that were predicted to not have cancer by the model. This is the most extreme, and worst case (life threathening). This is called a false-negative, or a Type II error.\n",
    "\n",
    "On the other hand, there are 6 cases that do not have cancer, but have been predicted to have cancer. This isn't as terrible because the patients will undergo more testing and discover they don't have cancer later - but still a mistake. (Not life threathening) This is a called a false-positive, or Type I error."
   ]
  },
  {
   "cell_type": "markdown",
   "metadata": {},
   "source": [
    "# NaiveBayes\n",
    "Naive Bayes is a simple multiclass classification algorithm with the assumption of independence between every pair of features. Naive Bayes can be trained very efficiently. Within a single pass to the training data, it computes the conditional probability distribution of each feature given label, and then it applies Bayes’ theorem to compute the conditional probability distribution of label given an observation and use it for prediction."
   ]
  },
  {
   "cell_type": "code",
   "execution_count": 42,
   "metadata": {},
   "outputs": [
    {
     "name": "stdout",
     "output_type": "stream",
     "text": [
      "Test set accuracy = 0.8739495798319328\n"
     ]
    }
   ],
   "source": [
    "from pyspark.ml.classification import NaiveBayes\n",
    "from pyspark.ml.evaluation import MulticlassClassificationEvaluator\n",
    "\n",
    "# Split the data into train and test\n",
    "random.seed(12345)\n",
    "train, test = df.randomSplit([0.8, 0.2])\n",
    "\n",
    "# create the trainer and set its parameters\n",
    "nb = NaiveBayes(smoothing=1.0, modelType=\"multinomial\")\n",
    "\n",
    "# train the model\n",
    "model = nb.fit(train)\n",
    "\n",
    "# select example rows to display.\n",
    "predictions = model.transform(test)\n",
    "\n",
    "# compute accuracy on the test set\n",
    "evaluator = MulticlassClassificationEvaluator(labelCol=\"label\", predictionCol=\"prediction\",\n",
    "                                              metricName=\"accuracy\")\n",
    "accuracy = evaluator.evaluate(predictions)\n",
    "print(\"Test set accuracy = \" + str(accuracy))"
   ]
  },
  {
   "cell_type": "code",
   "execution_count": 43,
   "metadata": {},
   "outputs": [
    {
     "data": {
      "text/plain": [
       "array([[36., 10.],\n",
       "       [ 5., 68.]])"
      ]
     },
     "execution_count": 43,
     "metadata": {},
     "output_type": "execute_result"
    }
   ],
   "source": [
    "outRdd = predictions\\\n",
    "  .select(\"prediction\", \"label\")\\\n",
    "  .rdd.map(lambda x: (float(x[0]), float(x[1])))\n",
    "\n",
    "metrics = MulticlassMetrics(outRdd)\n",
    "\n",
    "metrics.confusionMatrix().toArray()"
   ]
  },
  {
   "cell_type": "markdown",
   "metadata": {},
   "source": [
    "- True Positive (TP) - label is positive and prediction is also positive - 36 observation\n",
    "- True Negative (TN) - label is negative and prediction is also negative - 68 observations\n",
    "- False Positive (FP) - label is negative but prediction is positive - 10 observations\n",
    "- False Negative (FN) - label is positive but prediction is negative - 5 observations\n",
    "\n",
    "Total - 119 observations in the train dataset"
   ]
  },
  {
   "cell_type": "markdown",
   "metadata": {},
   "source": [
    "Another way to interpret this is that there are 5 cases that have been diagnosed with cancer that were predicted to not have cancer by the model. This is the most extreme, and worst case (life threathening). This is called a false-negative, or a Type II error.\n",
    "\n",
    "On the other hand, there are 10 cases that do not have cancer, but have been predicted to have cancer. This isn't as terrible because the patients will undergo more testing and discover they don't have cancer later - but still a mistake. (Not life threathening) This is a called a false-positive, or Type I error."
   ]
  },
  {
   "cell_type": "markdown",
   "metadata": {},
   "source": [
    "### 6. Conclusion\n",
    "---\n",
    "*(Briefly describe what you have done using cloud computing techniques and what you discovered. Discuss any shortcomings of the process and results. Propose future work. **Finally, discuss the lessons learned from doing the project**.)*"
   ]
  },
  {
   "cell_type": "markdown",
   "metadata": {},
   "source": [
    "## Model Accuracy\n",
    "To conclude, we used three different types of machine-learning classification models:\n",
    "- DecisionTreeClassifier ~89.88% accuracy\n",
    "- RandomForestClassifier ~91.60% accuracy\n",
    "- NaiveBayes ~87.40% accuracy\n",
    "\n",
    "The best model to predict whether or not the observation (row) was cancerous or not was the RandomForestClassifier. Although the accuracy is higher than the other 2 models, the other two models were not that far behind. To further test which performs better, we would need more samples in our training and test data set. \n",
    "\n",
    "### DecisionTreeClassifier Confusion Matrix:\n",
    "| - | Actual: True |  Actual: False |\n",
    "|------|------|------|\n",
    "| Predict: True |39| 7 |\n",
    "| Predit: False | 5 | 68 |\n",
    "\n",
    "- True Positive (TP) - label is positive and prediction is also positive - 39 observation\n",
    "- True Negative (TN) - label is negative and prediction is also negative - 68 observations\n",
    "- False Positive (FP) - label is negative but prediction is positive - 5 observations\n",
    "- False Negative (FN) - label is positive but prediction is negative - 7 observations\n",
    "\n",
    "### RandomForestClassifier Confusion Matrix:\n",
    "| - | Actual: True |  Actual: False |\n",
    "|------|------|------|\n",
    "| Predict: True |40| 6 |\n",
    "| Predit: False | 4 | 69 |\n",
    "\n",
    "- True Positive (TP) - label is positive and prediction is also positive - 40 observation\n",
    "- True Negative (TN) - label is negative and prediction is also negative - 69 observations\n",
    "- False Positive (FP) - label is negative but prediction is positive - 6 observations\n",
    "- False Negative (FN) - label is positive but prediction is negative - 4 observations\n",
    "\n",
    "\n",
    "### NaiveBayes Confusion Matrix:\n",
    "| - | Actual: True |  Actual: False |\n",
    "|------|------|------|\n",
    "| Predict: True |36| 10 |\n",
    "| Predit: False | 5 | 68 |\n",
    "\n",
    "- True Positive (TP) - label is positive and prediction is also positive - 36 observation\n",
    "- True Negative (TN) - label is negative and prediction is also negative - 68 observations\n",
    "- False Positive (FP) - label is negative but prediction is positive - 10 observations\n",
    "- False Negative (FN) - label is positive but prediction is negative - 5 observations\n",
    "\n",
    "## Lessons Learned\n",
    "Since we worked on a dataset that can affect someone's livelyhood, it made us really think about the consequences of  classifying an observation with the wrong label. To be more specific, the possibility of our model predicting an observation false negative or having a Type II Error. In our results, a false negative would mean that a patient is predicted not to have cancer when in fact they do have cancer. These type of real-life scenarios make it difficult to rely on models in the professional world.\n",
    "\n",
    "In order for us to reduce the Type II error, we would need to ensure that our tests have enough power. You can do this by ensuring your sample size is large enough to detect a practical difference when one truly exists. Obviously this wasn't realistic for us to do because we used someone else's dataset. However, if we were to conduct our own study and collect the data, we would look to collect at least 1000 observations."
   ]
  },
  {
   "cell_type": "markdown",
   "metadata": {},
   "source": [
    "### 7. References"
   ]
  },
  {
   "cell_type": "markdown",
   "metadata": {},
   "source": [
    "#### PySpark Decision Tree Classifier\n",
    "https://spark.apache.org/docs/latest/ml-classification-regression.html#decision-tree-classifier\n",
    "\n",
    "#### PySpark Random Forest Classifier\n",
    "https://spark.apache.org/docs/latest/ml-classification-regression.html#random-forest-classifier\n",
    "\n",
    "#### PySpark Naive Bayes\n",
    "https://spark.apache.org/docs/latest/ml-classification-regression.html#naive-bayes\n",
    "\n",
    "#### Confusion Matrix: Type I vs Type II Error\n",
    "https://manisha-sirsat.blogspot.com/2019/04/confusion-matrix.html"
   ]
  }
 ],
 "metadata": {
  "kernelspec": {
   "display_name": "Python 3",
   "language": "python",
   "name": "python3"
  },
  "language_info": {
   "codemirror_mode": {
    "name": "ipython",
    "version": 3
   },
   "file_extension": ".py",
   "mimetype": "text/x-python",
   "name": "python",
   "nbconvert_exporter": "python",
   "pygments_lexer": "ipython3",
   "version": "3.7.3"
  }
 },
 "nbformat": 4,
 "nbformat_minor": 4
}
